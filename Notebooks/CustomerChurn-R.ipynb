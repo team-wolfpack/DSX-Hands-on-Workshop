{
 "cells": [
  {
   "cell_type": "code",
   "execution_count": null,
   "metadata": {
    "collapsed": true
   },
   "outputs": [],
   "source": [
    "# Ensure the process is reproducible\n",
    "set.seed(2)"
   ]
  },
  {
   "cell_type": "code",
   "execution_count": null,
   "metadata": {},
   "outputs": [],
   "source": [
    "\n",
    "# Placeholder for R Data Frame Auto-code\n"
   ]
  },
  {
   "cell_type": "code",
   "execution_count": null,
   "metadata": {},
   "outputs": [],
   "source": [
    "if(!require(caret)) install.packages('caret')\n",
    "if(!require(randomForest)) install.packages('randomForest')\n",
    "if(!require(rpart)) install.packages('rpart')\n",
    "if(!require(rpart)) install.packages('rpart.plot')\n",
    "if(!require(rpart)) install.packages('e1071')"
   ]
  },
  {
   "cell_type": "code",
   "execution_count": null,
   "metadata": {},
   "outputs": [],
   "source": [
    "library(randomForest)\n",
    "library(caret)\n",
    "library(rpart)\n",
    "library(rpart.plot)\n",
    "library(e1071)"
   ]
  },
  {
   "cell_type": "code",
   "execution_count": null,
   "metadata": {
    "collapsed": true
   },
   "outputs": [],
   "source": [
    "# Create index\n",
    "trainIndex <- createDataPartition(y= custDataRaw$CHURN, p=0.8, list = FALSE)\n",
    " # 80% data goes in here\n",
    "train <- custDataRaw[trainIndex,]\n",
    "# 20% data goes in here\n",
    "test  <- custDataRaw[-trainIndex,] "
   ]
  },
  {
   "cell_type": "code",
   "execution_count": null,
   "metadata": {},
   "outputs": [],
   "source": [
    "nrow(train)\n",
    "nrow(test)"
   ]
  },
  {
   "cell_type": "code",
   "execution_count": null,
   "metadata": {},
   "outputs": [],
   "source": [
    "summary(custDataRaw)"
   ]
  },
  {
   "cell_type": "code",
   "execution_count": null,
   "metadata": {
    "collapsed": true
   },
   "outputs": [],
   "source": [
    "fitCART <- rpart(as.character(CHURN) ~ Gender + Status + Children + Est.Income +\n",
    "                 Car.Owner + Age + LongDistance + International + Local +\n",
    "                 Dropped + Paymethod + LocalBilltype + LongDistanceBilltype +\n",
    "                 Usage + RatePlan,\n",
    "             data = train,\n",
    "             method=\"class\")"
   ]
  },
  {
   "cell_type": "code",
   "execution_count": null,
   "metadata": {
    "scrolled": true
   },
   "outputs": [],
   "source": [
    "rpart.plot(fitCART)"
   ]
  },
  {
   "cell_type": "markdown",
   "metadata": {},
   "source": [
    "Each node shows\n",
    "- the predicted class (died or survived),\n",
    "- the predicted probability of survival,\n",
    "- the percentage of observations in the node."
   ]
  },
  {
   "cell_type": "code",
   "execution_count": null,
   "metadata": {
    "collapsed": true
   },
   "outputs": [],
   "source": [
    "prediction <- predict(fitCART,test,type=\"class\")"
   ]
  },
  {
   "cell_type": "code",
   "execution_count": null,
   "metadata": {
    "collapsed": true
   },
   "outputs": [],
   "source": [
    "# finalResults <- data.frame(Actual = test$CHURN, Predicted = prediction)\n",
    "finalResults <- data.frame(Actual = test$CHURN, Predicted = prediction)"
   ]
  },
  {
   "cell_type": "code",
   "execution_count": null,
   "metadata": {
    "scrolled": true
   },
   "outputs": [],
   "source": [
    "head(finalResults)"
   ]
  },
  {
   "cell_type": "code",
   "execution_count": null,
   "metadata": {},
   "outputs": [],
   "source": [
    "confusionMatrix(prediction, test$CHURN)"
   ]
  },
  {
   "cell_type": "code",
   "execution_count": null,
   "metadata": {
    "collapsed": true
   },
   "outputs": [],
   "source": [
    "fitRandomForests <- randomForest(as.factor(CHURN) ~ Gender + Status + Children + Est.Income +\n",
    "                    Car.Owner + Age + LongDistance + International + Local +\n",
    "                    Dropped + Paymethod + LocalBilltype + LongDistanceBilltype +\n",
    "                    Usage + RatePlan,\n",
    "                    data=custDataRaw,\n",
    "                    importance=TRUE,\n",
    "                    ntree=100,\n",
    "                    mtry=3\n",
    "                    )"
   ]
  },
  {
   "cell_type": "code",
   "execution_count": null,
   "metadata": {
    "scrolled": true
   },
   "outputs": [],
   "source": [
    "varImpPlot(fitRandomForests, type=1)"
   ]
  },
  {
   "cell_type": "markdown",
   "metadata": {},
   "source": [
    "There’s two types of importance measures shown above. The accuracy one tests to see how worse the model performs without each variable, so a high decrease in accuracy would be expected for very predictive variables. The Gini one digs into the mathematics behind decision trees, but essentially measures how pure the nodes are at the end of the tree. Again it tests to see the result if each variable is taken out and a high score means the variable was important."
   ]
  },
  {
   "cell_type": "code",
   "execution_count": null,
   "metadata": {
    "scrolled": true
   },
   "outputs": [],
   "source": [
    "plot(fitRandomForests, main=paste(\"Error Rate vs. # Trees ( mtry =\",fitRandomForests$mtry,\")\"), \n",
    "     type=\"l\", \n",
    "     col.main=\"black\",\n",
    "     lwd=2,\n",
    "     lty=1);\n",
    "legend(\"top\", colnames(fitRandomForests$err.rate),col=1:4,\n",
    "       cex=0.8, fill=1:5, lwd=1, bty=\"n\")"
   ]
  },
  {
   "cell_type": "code",
   "execution_count": null,
   "metadata": {
    "scrolled": true
   },
   "outputs": [],
   "source": [
    "print(fitRandomForests$confusion)"
   ]
  }
 ],
 "metadata": {
  "kernelspec": {
   "display_name": "R with Spark 2.1",
   "language": "R",
   "name": "r-spark21"
  },
  "language_info": {
   "codemirror_mode": "r",
   "file_extension": ".r",
   "mimetype": "text/x-r-source",
   "name": "R",
   "pygments_lexer": "r",
   "version": "3.3.2"
  }
 },
 "nbformat": 4,
 "nbformat_minor": 1
}
