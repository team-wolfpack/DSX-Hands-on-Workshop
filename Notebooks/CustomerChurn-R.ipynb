{
 "cells": [
  {
   "cell_type": "markdown",
   "metadata": {},
   "source": [
    "# DSX Hands-on Workshop\n",
    "\n"
   ]
  },
  {
   "cell_type": "markdown",
   "metadata": {},
   "source": [
    "## A bit about Jupyter notebook cell types.\n",
    "\n",
    "The behavior of a cell is determined by a cell’s type. \n",
    "\n",
    "The different types of cells include:\n",
    "\n",
    "**Code**: Where you can edit and write new code.\n",
    "\n",
    "**Markdown**: Where you can document the computational process. You can input headings to structure your notebook hierarchically.\n",
    "\n",
    "**Raw NBConvert**:  Where you can write output directly or put code that you don’t want to run. Raw cells are not evaluated by the notebook.\n",
    "\n",
    "For the purpose of this lab, a heading will be added but all further notes will be inline with the code by using #.  An example of using Markdown will follow.\n",
    "\n",
    "If you want to learn more about markdown then check this out:\n",
    "[Mark Down Cheatseet](https://github.com/adam-p/markdown-here/wiki/Markdown-Cheatsheet)"
   ]
  },
  {
   "cell_type": "code",
   "execution_count": null,
   "metadata": {
    "collapsed": true
   },
   "outputs": [],
   "source": [
    "# Add Markdown Title Here"
   ]
  },
  {
   "cell_type": "markdown",
   "metadata": {},
   "source": [
    "## R Libraries\n",
    "\n",
    "Many R functions come in packages, which are free libraries of code written by R's active user community.  There are thousands of helpful R packages but this lab will only require the following:\n",
    "\n",
    "**caret**: Package of useful functions that help streamline the model building and evaluation process.\n",
    "\n",
    "**randomForest**: Classification and regression based on a forest of trees using random inputs.\n",
    "\n",
    "**rpart**: Recursive partitioning for classification, regression and survival trees. An implementation of most of the functionality of the 1984 book by Breiman, Friedman, Olshen and Stone.\n",
    "\n",
    "**rpart.plot**:Plot 'rpart' models. Extends plot.rpart() and text.rpart() in the 'rpart' package.\n",
    "\n",
    "**e1071**: Functions for latent class analysis, short time Fourier transform, fuzzy clustering, support vector machines, shortest path computation, bagged clustering, naive Bayes classifier.\n"
   ]
  },
  {
   "cell_type": "code",
   "execution_count": null,
   "metadata": {},
   "outputs": [],
   "source": [
    "# Install required libraries if not already present\n",
    "# This step can take up to 1-2 minutes.\n",
    "\n",
    "if(!require(caret)){\n",
    "  install.packages(\"caret\")\n",
    "  print ('Package [caret] successfully installed.')\n",
    "  library(caret)\n",
    "  print ('[caret] loaded.')\n",
    "} else {\n",
    "  print('Package [caret] already installed.')\n",
    "  library(caret)\n",
    "  print ('[caret] loaded.')\n",
    "}\n",
    "\n",
    "if(!require(randomForest)){\n",
    "  install.packages(\"randomForest\")\n",
    "  print ('Package [randomForest] successfully installed.')\n",
    "  library(randomForest)\n",
    "  print ('[randomForest] loaded.')\n",
    "} else {\n",
    "  print('Package [randomForest] already installed.')\n",
    "  library(randomForest)\n",
    "  print ('[randomForest] loaded.')\n",
    "}\n",
    "\n",
    "if(!require(rpart)){\n",
    "  install.packages(\"rpart\")\n",
    "  print ('Package [rpart] successfully installed.')\n",
    "  library(rpart)\n",
    "  print ('[rpart] loaded.')\n",
    "} else {\n",
    "  print('Package [rpart] already installed.')\n",
    "  library(rpart)\n",
    "  print ('[rpart] loaded.')\n",
    "}\n",
    "\n",
    "if(!require(rpart.plot)){\n",
    "  install.packages(\"rpart.plot\")\n",
    "  print ('Package [rpart.plot] successfully installed.')\n",
    "  library(rpart.plot)\n",
    "  print ('[rpart.plot] loaded.')\n",
    "} else {\n",
    "  print('Package [rpart.plot] already installed.')\n",
    "  library(rpart.plot)\n",
    "  print ('[rpart.plot] loaded.')\n",
    "}\n",
    "\n",
    "if(!require(e1071)){\n",
    "  install.packages(\"e1071\")\n",
    "  print ('Package [e1071] successfully installed.')\n",
    "  library(e1071)\n",
    "  print ('[e1071] loaded.')\n",
    "} else {\n",
    "  print('Package [e1071] already installed.')\n",
    "  library(e1071)\n",
    "  print ('[e1071] loaded.')\n",
    "}"
   ]
  },
  {
   "cell_type": "markdown",
   "metadata": {},
   "source": [
    "## Reproducible Results"
   ]
  },
  {
   "cell_type": "code",
   "execution_count": null,
   "metadata": {
    "collapsed": true
   },
   "outputs": [],
   "source": [
    "# Ensure the process is reproducible\n",
    "# Generally, in statistics, samples are chosen at random.  A random number generator \n",
    "# is used to select the samples and is based off of a seed value.  The seed is \n",
    "# explicitly set so results are reproducible. To ensure everyone retrieves the same \n",
    "# results in this lab, the seed value was randomly chosen as 3482.\n",
    "set.seed(3842)"
   ]
  },
  {
   "cell_type": "markdown",
   "metadata": {},
   "source": [
    "## Bluemix Object Storage Connectivity"
   ]
  },
  {
   "cell_type": "code",
   "execution_count": null,
   "metadata": {},
   "outputs": [],
   "source": [
    "# Placeholder for R Data Frame Auto-code\n",
    "# custDataRaw\n",
    "\n"
   ]
  },
  {
   "cell_type": "code",
   "execution_count": null,
   "metadata": {},
   "outputs": [],
   "source": [
    "# Primary data set row count\n",
    "cat(sprintf(\"[custDataRaw] has %d rows:\\n\", nrow(custDataRaw)))"
   ]
  },
  {
   "cell_type": "code",
   "execution_count": null,
   "metadata": {
    "scrolled": true
   },
   "outputs": [],
   "source": [
    "# Summary Stats for entire data set\n",
    "summary(custDataRaw)"
   ]
  },
  {
   "cell_type": "code",
   "execution_count": null,
   "metadata": {},
   "outputs": [],
   "source": [
    "# Create index of data rows to faciliate partitioning\n",
    "# The createDataPartition function will randomly pick 90% of the rows which will be used for training/testing data sets\n",
    "# 10% will be left out for a validation data set\n",
    "trainIndex_temp <- createDataPartition(y= custDataRaw$CHURN, p=0.9, list = FALSE)\n",
    "\n",
    "# 10% data goes in here (validation)\n",
    "# Notice the \"-\" symbol to indicate \"not\" the 90%\n",
    "validation  <- custDataRaw[-trainIndex_temp,]\n",
    "\n",
    "# This now becomes our working data for training and testing\n",
    "temp_hold <- custDataRaw[trainIndex_temp,]\n",
    "# Rename it to something friendly\n",
    "custDataRaw <- temp_hold\n",
    "\n",
    "# The remaining data will be split again for training and testing data\n",
    "trainIndex <- createDataPartition(y= temp_hold$CHURN, p=0.8, list = FALSE)\n",
    "train <- temp_hold[trainIndex,]\n",
    "test <- temp_hold[-trainIndex,]\n",
    "# 80% for training\n",
    "# 20% for testing\n",
    "\n"
   ]
  },
  {
   "cell_type": "code",
   "execution_count": null,
   "metadata": {},
   "outputs": [],
   "source": [
    "# Training and Testing data sets row counts\n",
    "cat(sprintf(\"[train] has %d rows:\\n\", nrow(train)))\n",
    "cat(sprintf(\"[test] has %d rows:\\n\", nrow(test)))\n",
    "cat(sprintf(\"[validation] has %d rows:\\n\", nrow(validation)))"
   ]
  },
  {
   "cell_type": "markdown",
   "metadata": {},
   "source": [
    "## Decision Tree Classifier\n",
    "\n",
    "Decision tree learning uses a decision tree (as a predictive model) to go from observations about an item (represented in the branches) \n",
    "to conclusions about the item's target value (represented in the leaves). It is one of the predictive modelling approaches used in statistics, \n",
    "data mining and machine learning. \n",
    "\n",
    "If you want to learn more about the decision trees then check this out:\n",
    "[Decision Tree Learning](https://en.wikipedia.org/wiki/Decision_tree_learning)"
   ]
  },
  {
   "cell_type": "code",
   "execution_count": null,
   "metadata": {
    "collapsed": true
   },
   "outputs": [],
   "source": [
    "# Using the training data (train), create a classification tree.\n",
    "# The target is \"CHURN\", the predictors are every other variable except ID.\n",
    "# The target is cast from boolean to a character for ease of model interpretation.\n",
    "\n",
    "fitCART <- rpart(as.character(CHURN) ~ Gender + Status + Children + Est.Income +\n",
    "                 Car.Owner + Age + LongDistance + International + Local +\n",
    "                 Dropped + Paymethod + LocalBilltype + LongDistanceBilltype +\n",
    "                 Usage + RatePlan,\n",
    "             data = train,\n",
    "             method=\"class\")\n",
    "\n",
    "# The resulting model is placed into an object called \"fitCart\""
   ]
  },
  {
   "cell_type": "code",
   "execution_count": null,
   "metadata": {
    "scrolled": true
   },
   "outputs": [],
   "source": [
    "# The rpart.plot library helps us visualize the resulting tree.\n",
    "rpart.plot(fitCART)"
   ]
  },
  {
   "cell_type": "markdown",
   "metadata": {},
   "source": [
    "Each node shows\n",
    "- the predicted class (CHURN)\n",
    "- the predicted probability of CHURN\n",
    "- the percentage of observations in the node"
   ]
  },
  {
   "cell_type": "code",
   "execution_count": null,
   "metadata": {
    "collapsed": true
   },
   "outputs": [],
   "source": [
    "# Using the \"predict\" function we measure our model's performance using the test data\n",
    "prediction <- predict(fitCART,test,type=\"class\")"
   ]
  },
  {
   "cell_type": "code",
   "execution_count": null,
   "metadata": {
    "collapsed": true
   },
   "outputs": [],
   "source": [
    "# Show side by side, the actual outcome vs. the predictied outcome\n",
    "finalResults <- data.frame(Actual = test$CHURN, Predicted = prediction)"
   ]
  },
  {
   "cell_type": "code",
   "execution_count": null,
   "metadata": {
    "scrolled": true
   },
   "outputs": [],
   "source": [
    "# Taking a peek at the resulting data frame\n",
    "head(finalResults[order(finalResults$Actual, decreasing=TRUE), ], 10)"
   ]
  },
  {
   "cell_type": "markdown",
   "metadata": {},
   "source": [
    "## Confusion Matrix\n",
    "A confusion matrix is a table that is often used to describe the performance of a classification model (or \"classifier\") on a set of test data for which the true values are known. The confusion matrix itself is relatively simple to understand, but the related terminology can be confusing.\n",
    "\n",
    "If you want to learn more about the confusion matrix then check this out:\n",
    "[Confusion Matrix Cheatseet](http://www.dataschool.io/simple-guide-to-confusion-matrix-terminology/)"
   ]
  },
  {
   "cell_type": "code",
   "execution_count": null,
   "metadata": {
    "scrolled": true
   },
   "outputs": [],
   "source": [
    "# Overall, how well did our model perform?\n",
    "confusionMatrix(prediction, test$CHURN)"
   ]
  },
  {
   "cell_type": "markdown",
   "metadata": {},
   "source": [
    "## Random Forest Classifier\n",
    "\n",
    "Random forests or random decision forests are an ensemble learning method for classification, regression and other tasks, that operate by constructing a multitude of decision trees at training time and outputting the class that is the mode of the classes (classification) or mean prediction (regression) of the individual trees. Random decision forests correct for decision trees' habit of overfitting to their training set.\n",
    "\n",
    "If you want to learn more about Random Forests then check this out:\n",
    "[Random Forests](https://www.stat.berkeley.edu/~breiman/RandomForests/cc_home.htm)\n"
   ]
  },
  {
   "cell_type": "code",
   "execution_count": null,
   "metadata": {
    "collapsed": true
   },
   "outputs": [],
   "source": [
    "fitRandomForests <- randomForest(as.factor(CHURN) ~ Gender + Status + Children + Est.Income +\n",
    "                    Car.Owner + Age + LongDistance + International + Local +\n",
    "                    Dropped + Paymethod + LocalBilltype + LongDistanceBilltype +\n",
    "                    Usage + RatePlan,\n",
    "                    data=custDataRaw,\n",
    "                    importance=TRUE,\n",
    "                    ntree=100,\n",
    "                    mtry=3\n",
    "                    )"
   ]
  },
  {
   "cell_type": "code",
   "execution_count": null,
   "metadata": {
    "scrolled": true
   },
   "outputs": [],
   "source": [
    "# A nice feauture of Random Forests is that it provides an easy lens into the most important features.\n",
    "varImpPlot(fitRandomForests, \n",
    "           sort=T,\n",
    "           main=\"Variable Importance\",\n",
    "           n.var=13)"
   ]
  },
  {
   "cell_type": "markdown",
   "metadata": {},
   "source": [
    "There are two types of importance measures produced with Random Forests. Accuracy (MeanDecreaseAccurary) tests to see how worse the model performs without each variable, so a high decrease in accuracy would be expected for very predictive variables. Gini (MeanDecreaseGini) digs into the mathematics behind decision trees, but essentially measures how pure the nodes are at the end of the tree. Again it tests to see the result if each variable is taken out and a high score means the variable was important.\n",
    "\n",
    "Please make a note of the top 10 variables as indicated by **MeanDecreaseAccuracy**\n",
    "\n",
    "1.\n",
    "\n",
    "2.\n",
    "\n",
    "3.\n",
    "\n",
    "4.\n",
    "\n",
    "5.\n",
    "\n",
    "6.\n",
    "\n",
    "7.\n",
    "\n",
    "8.\n",
    "\n",
    "9.\n",
    "\n",
    "10.\n"
   ]
  },
  {
   "cell_type": "code",
   "execution_count": null,
   "metadata": {
    "scrolled": true
   },
   "outputs": [],
   "source": [
    "# Plotting Random Forests' trees is complex and can be misleading.  However, we are able to plot the Out of Bag Error Rate (OOB), the FALSE, and TRUE error rates as a function of the # of trees generated.\n",
    "plot(fitRandomForests, main=paste(\"Error Rate vs. # Trees ( mtry =\",fitRandomForests$mtry,\")\"), \n",
    "     type=\"l\", \n",
    "     col.main=\"black\",\n",
    "     lwd=2,\n",
    "     lty=1);\n",
    "legend(\"top\", colnames(fitRandomForests$err.rate),col=1:4,\n",
    "       cex=0.8, fill=1:5, lwd=1, bty=\"n\")"
   ]
  },
  {
   "cell_type": "code",
   "execution_count": null,
   "metadata": {
    "scrolled": false
   },
   "outputs": [],
   "source": [
    "# Overall, how did our Random Forests model perform\n",
    "print(fitRandomForests)"
   ]
  },
  {
   "cell_type": "code",
   "execution_count": null,
   "metadata": {
    "collapsed": true,
    "scrolled": false
   },
   "outputs": [],
   "source": [
    "# Let's test our model with a small random sample of the overall data set\n",
    "randomForestsPredictResponse <- predict(fitRandomForests, validation)"
   ]
  },
  {
   "cell_type": "code",
   "execution_count": null,
   "metadata": {
    "scrolled": true
   },
   "outputs": [],
   "source": [
    "# Overall model performance was excellent on a small sampling of data\n",
    "confusionMatrix(randomForestsPredictResponse,\n",
    "                reference=validation$CHURN)"
   ]
  },
  {
   "cell_type": "markdown",
   "metadata": {},
   "source": [
    "# END OF NOTEBOOK EXCERCISE"
   ]
  }
 ],
 "metadata": {
  "kernelspec": {
   "display_name": "R with Spark 2.1",
   "language": "R",
   "name": "r-spark21"
  },
  "language_info": {
   "codemirror_mode": "r",
   "file_extension": ".r",
   "mimetype": "text/x-r-source",
   "name": "R",
   "pygments_lexer": "r",
   "version": "3.3.2"
  }
 },
 "nbformat": 4,
 "nbformat_minor": 1
}
